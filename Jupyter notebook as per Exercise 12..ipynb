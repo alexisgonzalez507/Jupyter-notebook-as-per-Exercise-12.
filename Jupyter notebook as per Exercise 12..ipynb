{
 "cells": [
  {
   "cell_type": "markdown",
   "id": "c7c1b42e-7165-429f-a5e8-59cd90ca1379",
   "metadata": {},
   "source": [
    "# Data Science and Programming Assignment\n"
   ]
  },
  {
   "cell_type": "markdown",
   "id": "2a904acc-845e-499e-9579-ca266a25bafa",
   "metadata": {},
   "source": [
    "## Introduction\n",
    "\n",
    "This notebook demonstrates basic Markdown and code cell usage in a Jupyter notebook. It will cover examples of arithmetic expressions, data science languages, libraries, and tools.\n"
   ]
  },
  {
   "cell_type": "markdown",
   "id": "cca42ce7-312a-48bd-a36e-4d3590b5203a",
   "metadata": {},
   "source": [
    "## Data Science Languages\n",
    "\n",
    "- Python\n",
    "- R\n",
    "- SQL\n",
    "- Julia\n",
    "- Scala\n"
   ]
  },
  {
   "cell_type": "markdown",
   "id": "7a7b901b-6e74-4c05-96b1-4173879eff71",
   "metadata": {},
   "source": [
    "## Data Science Libraries\n",
    "\n",
    "- Pandas\n",
    "- NumPy\n",
    "- Matplotlib\n",
    "- Scikit-learn\n",
    "- TensorFlow\n",
    "- PyTorch\n"
   ]
  },
  {
   "cell_type": "markdown",
   "id": "a739844f-6193-4f47-a1f5-13b8508f322c",
   "metadata": {},
   "source": [
    "## Data Science Tools\n",
    "\n",
    "| Tool             | Purpose                                    |\n",
    "|------------------|--------------------------------------------|\n",
    "| Jupyter Notebooks| Interactive development and analysis       |\n",
    "| GitHub           | Version control and collaboration         |\n",
    "| Tableau          | Data visualization and dashboard creation |\n",
    "| Excel            | Spreadsheet data manipulation             |\n",
    "| Power BI         | Data visualization and business analytics |\n"
   ]
  },
  {
   "cell_type": "markdown",
   "id": "a6345919-9165-4b7f-b8a0-427036dcba75",
   "metadata": {},
   "source": [
    "## Arithmetic Expressions\n",
    "\n",
    "In this section, we will demonstrate some basic arithmetic expressions using Python.\n"
   ]
  },
  {
   "cell_type": "code",
   "execution_count": 1,
   "id": "78ad9ffc-1a1d-413c-af61-89879aa91c33",
   "metadata": {},
   "outputs": [
    {
     "data": {
      "text/plain": [
       "22"
      ]
     },
     "execution_count": 1,
     "metadata": {},
     "output_type": "execute_result"
    }
   ],
   "source": [
    "# Multiplying and adding numbers\n",
    "result = (5 * 3) + 7\n",
    "result\n"
   ]
  },
  {
   "cell_type": "markdown",
   "id": "c8ea87fe-2f71-46bd-a4db-dcb05db892e5",
   "metadata": {},
   "source": [
    "## Objectives\n",
    "\n",
    "- To learn the basic usage of Markdown in a Jupyter notebook.\n",
    "- To explore and implement simple arithmetic expressions.\n",
    "- To understand and demonstrate the usage of data science languages and tools.\n"
   ]
  },
  {
   "cell_type": "markdown",
   "id": "6df97aed-e1d5-49b5-a9ca-63272fbdbca8",
   "metadata": {},
   "source": [
    "## Author\n",
    "\n",
    "This notebook was created by Alexis Gonzalez.\n"
   ]
  }
 ],
 "metadata": {
  "kernelspec": {
   "display_name": "Python 3 (ipykernel)",
   "language": "python",
   "name": "python3"
  },
  "language_info": {
   "codemirror_mode": {
    "name": "ipython",
    "version": 3
   },
   "file_extension": ".py",
   "mimetype": "text/x-python",
   "name": "python",
   "nbconvert_exporter": "python",
   "pygments_lexer": "ipython3",
   "version": "3.13.1"
  }
 },
 "nbformat": 4,
 "nbformat_minor": 5
}
